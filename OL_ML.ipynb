{
 "cells": [
  {
   "cell_type": "code",
   "execution_count": 1,
   "metadata": {},
   "outputs": [],
   "source": [
    "import pandas as pd\n",
    "import os\n",
    "from sklearn.neighbors import KNeighborsClassifier\n",
    "\n",
    "import matplotlib.pyplot as plt\n",
    "import seaborn as sns\n",
    "%matplotlib inline\n",
    "import numpy as np"
   ]
  },
  {
   "cell_type": "code",
   "execution_count": 2,
   "metadata": {},
   "outputs": [
    {
     "data": {
      "text/html": [
       "<div>\n",
       "<style scoped>\n",
       "    .dataframe tbody tr th:only-of-type {\n",
       "        vertical-align: middle;\n",
       "    }\n",
       "\n",
       "    .dataframe tbody tr th {\n",
       "        vertical-align: top;\n",
       "    }\n",
       "\n",
       "    .dataframe thead th {\n",
       "        text-align: right;\n",
       "    }\n",
       "</style>\n",
       "<table border=\"1\" class=\"dataframe\">\n",
       "  <thead>\n",
       "    <tr style=\"text-align: right;\">\n",
       "      <th></th>\n",
       "      <th>name</th>\n",
       "      <th>approximate_value</th>\n",
       "      <th>games.x</th>\n",
       "      <th>AVp16</th>\n",
       "      <th>X1</th>\n",
       "      <th>adjusted_yards_per_attempt</th>\n",
       "      <th>assists_on_tackles</th>\n",
       "      <th>completed_passes</th>\n",
       "      <th>extra_points_made</th>\n",
       "      <th>field_goals_made</th>\n",
       "      <th>...</th>\n",
       "      <th>total_touchdowns</th>\n",
       "      <th>two_point_conversions</th>\n",
       "      <th>weight</th>\n",
       "      <th>yards_from_scrimmage</th>\n",
       "      <th>yards_from_scrimmage_per_play</th>\n",
       "      <th>yards_recovered_from_fumble</th>\n",
       "      <th>yards_returned_from_interceptions</th>\n",
       "      <th>yards_returned_per_interception</th>\n",
       "      <th>year</th>\n",
       "      <th>X</th>\n",
       "    </tr>\n",
       "  </thead>\n",
       "  <tbody>\n",
       "    <tr>\n",
       "      <th>0</th>\n",
       "      <td>Oday Aboushi</td>\n",
       "      <td>14</td>\n",
       "      <td>49</td>\n",
       "      <td>4.571429</td>\n",
       "      <td>Career</td>\n",
       "      <td>NaN</td>\n",
       "      <td>1.0</td>\n",
       "      <td>NaN</td>\n",
       "      <td>NaN</td>\n",
       "      <td>NaN</td>\n",
       "      <td>...</td>\n",
       "      <td>NaN</td>\n",
       "      <td>NaN</td>\n",
       "      <td>NaN</td>\n",
       "      <td>NaN</td>\n",
       "      <td>NaN</td>\n",
       "      <td>0.0</td>\n",
       "      <td>0.0</td>\n",
       "      <td>NaN</td>\n",
       "      <td>NaN</td>\n",
       "      <td>NaN</td>\n",
       "    </tr>\n",
       "    <tr>\n",
       "      <th>1</th>\n",
       "      <td>Danny Aiken</td>\n",
       "      <td>4</td>\n",
       "      <td>66</td>\n",
       "      <td>0.969697</td>\n",
       "      <td>Career</td>\n",
       "      <td>NaN</td>\n",
       "      <td>7.0</td>\n",
       "      <td>NaN</td>\n",
       "      <td>NaN</td>\n",
       "      <td>NaN</td>\n",
       "      <td>...</td>\n",
       "      <td>NaN</td>\n",
       "      <td>NaN</td>\n",
       "      <td>NaN</td>\n",
       "      <td>NaN</td>\n",
       "      <td>NaN</td>\n",
       "      <td>0.0</td>\n",
       "      <td>NaN</td>\n",
       "      <td>NaN</td>\n",
       "      <td>NaN</td>\n",
       "      <td>NaN</td>\n",
       "    </tr>\n",
       "    <tr>\n",
       "      <th>2</th>\n",
       "      <td>Branden Albert</td>\n",
       "      <td>53</td>\n",
       "      <td>120</td>\n",
       "      <td>7.066667</td>\n",
       "      <td>Career</td>\n",
       "      <td>NaN</td>\n",
       "      <td>NaN</td>\n",
       "      <td>NaN</td>\n",
       "      <td>NaN</td>\n",
       "      <td>NaN</td>\n",
       "      <td>...</td>\n",
       "      <td>NaN</td>\n",
       "      <td>NaN</td>\n",
       "      <td>NaN</td>\n",
       "      <td>2.0</td>\n",
       "      <td>2.0</td>\n",
       "      <td>NaN</td>\n",
       "      <td>NaN</td>\n",
       "      <td>NaN</td>\n",
       "      <td>NaN</td>\n",
       "      <td>NaN</td>\n",
       "    </tr>\n",
       "    <tr>\n",
       "      <th>3</th>\n",
       "      <td>Shawn Andrews</td>\n",
       "      <td>40</td>\n",
       "      <td>63</td>\n",
       "      <td>10.158730</td>\n",
       "      <td>NaN</td>\n",
       "      <td>NaN</td>\n",
       "      <td>NaN</td>\n",
       "      <td>NaN</td>\n",
       "      <td>NaN</td>\n",
       "      <td>NaN</td>\n",
       "      <td>...</td>\n",
       "      <td>2.0</td>\n",
       "      <td>NaN</td>\n",
       "      <td>NaN</td>\n",
       "      <td>3.0</td>\n",
       "      <td>1.0</td>\n",
       "      <td>NaN</td>\n",
       "      <td>NaN</td>\n",
       "      <td>NaN</td>\n",
       "      <td>NaN</td>\n",
       "      <td>Career</td>\n",
       "    </tr>\n",
       "    <tr>\n",
       "      <th>4</th>\n",
       "      <td>Jon Asamoah</td>\n",
       "      <td>23</td>\n",
       "      <td>75</td>\n",
       "      <td>4.906667</td>\n",
       "      <td>Career</td>\n",
       "      <td>NaN</td>\n",
       "      <td>0.0</td>\n",
       "      <td>NaN</td>\n",
       "      <td>NaN</td>\n",
       "      <td>NaN</td>\n",
       "      <td>...</td>\n",
       "      <td>NaN</td>\n",
       "      <td>NaN</td>\n",
       "      <td>NaN</td>\n",
       "      <td>NaN</td>\n",
       "      <td>NaN</td>\n",
       "      <td>0.0</td>\n",
       "      <td>NaN</td>\n",
       "      <td>NaN</td>\n",
       "      <td>NaN</td>\n",
       "      <td>NaN</td>\n",
       "    </tr>\n",
       "  </tbody>\n",
       "</table>\n",
       "<p>5 rows × 58 columns</p>\n",
       "</div>"
      ],
      "text/plain": [
       "             name  approximate_value  games.x      AVp16      X1  \\\n",
       "0    Oday Aboushi                 14       49   4.571429  Career   \n",
       "1     Danny Aiken                  4       66   0.969697  Career   \n",
       "2  Branden Albert                 53      120   7.066667  Career   \n",
       "3   Shawn Andrews                 40       63  10.158730     NaN   \n",
       "4     Jon Asamoah                 23       75   4.906667  Career   \n",
       "\n",
       "   adjusted_yards_per_attempt  assists_on_tackles  completed_passes  \\\n",
       "0                         NaN                 1.0               NaN   \n",
       "1                         NaN                 7.0               NaN   \n",
       "2                         NaN                 NaN               NaN   \n",
       "3                         NaN                 NaN               NaN   \n",
       "4                         NaN                 0.0               NaN   \n",
       "\n",
       "   extra_points_made  field_goals_made  ...  total_touchdowns  \\\n",
       "0                NaN               NaN  ...               NaN   \n",
       "1                NaN               NaN  ...               NaN   \n",
       "2                NaN               NaN  ...               NaN   \n",
       "3                NaN               NaN  ...               2.0   \n",
       "4                NaN               NaN  ...               NaN   \n",
       "\n",
       "   two_point_conversions  weight  yards_from_scrimmage  \\\n",
       "0                    NaN     NaN                   NaN   \n",
       "1                    NaN     NaN                   NaN   \n",
       "2                    NaN     NaN                   2.0   \n",
       "3                    NaN     NaN                   3.0   \n",
       "4                    NaN     NaN                   NaN   \n",
       "\n",
       "  yards_from_scrimmage_per_play  yards_recovered_from_fumble  \\\n",
       "0                           NaN                          0.0   \n",
       "1                           NaN                          0.0   \n",
       "2                           2.0                          NaN   \n",
       "3                           1.0                          NaN   \n",
       "4                           NaN                          0.0   \n",
       "\n",
       "   yards_returned_from_interceptions  yards_returned_per_interception  year  \\\n",
       "0                                0.0                              NaN   NaN   \n",
       "1                                NaN                              NaN   NaN   \n",
       "2                                NaN                              NaN   NaN   \n",
       "3                                NaN                              NaN   NaN   \n",
       "4                                NaN                              NaN   NaN   \n",
       "\n",
       "        X  \n",
       "0     NaN  \n",
       "1     NaN  \n",
       "2     NaN  \n",
       "3  Career  \n",
       "4     NaN  \n",
       "\n",
       "[5 rows x 58 columns]"
      ]
     },
     "execution_count": 2,
     "metadata": {},
     "output_type": "execute_result"
    }
   ],
   "source": [
    "df = pd.read_csv('Position CSV/OL_stacked.csv')\n",
    "df.head()"
   ]
  },
  {
   "cell_type": "code",
   "execution_count": 3,
   "metadata": {},
   "outputs": [],
   "source": [
    "df.drop(['name', 'approximate_value', 'games.x', 'X1', 'height', 'player_id', 'position', 'team_abbreviation', 'season', 'year', 'X'], axis=1, inplace=True)"
   ]
  },
  {
   "cell_type": "code",
   "execution_count": 4,
   "metadata": {},
   "outputs": [],
   "source": [
    "df.fillna(0, inplace=True)"
   ]
  },
  {
   "cell_type": "code",
   "execution_count": 5,
   "metadata": {},
   "outputs": [
    {
     "name": "stdout",
     "output_type": "stream",
     "text": [
      "AVp16\n",
      "adjusted_yards_per_attempt\n",
      "assists_on_tackles\n",
      "completed_passes\n",
      "extra_points_made\n",
      "field_goals_made\n",
      "fumbles_forced\n",
      "fumbles_recovered\n",
      "fumbles_recovered_for_touchdown\n",
      "games.y\n",
      "interceptions\n",
      "interceptions_returned_for_touchdown\n",
      "interceptions_thrown\n",
      "kickoff_return_touchdowns\n",
      "other_touchdowns\n",
      "pass_attempts\n",
      "passes_defended\n",
      "passing_completion\n",
      "passing_touchdowns\n",
      "passing_yards\n",
      "passing_yards_per_attempt\n",
      "plays_from_scrimmage\n",
      "points\n",
      "punt_return_touchdowns\n",
      "quarterback_rating\n",
      "receiving_touchdowns\n",
      "receiving_yards\n",
      "receiving_yards_per_reception\n",
      "receptions\n",
      "rush_attempts\n",
      "rush_touchdowns\n",
      "rush_yards\n",
      "rush_yards_per_attempt\n",
      "rushing_and_receiving_touchdowns\n",
      "sacks\n",
      "safeties\n",
      "solo_tackles\n",
      "tackles_for_loss\n",
      "total_tackles\n",
      "total_touchdowns\n",
      "two_point_conversions\n",
      "weight\n",
      "yards_from_scrimmage\n",
      "yards_from_scrimmage_per_play\n",
      "yards_recovered_from_fumble\n",
      "yards_returned_from_interceptions\n",
      "yards_returned_per_interception\n"
     ]
    }
   ],
   "source": [
    "for col in df.columns: \n",
    "    print(col) "
   ]
  },
  {
   "cell_type": "code",
   "execution_count": 6,
   "metadata": {},
   "outputs": [
    {
     "data": {
      "image/png": "[encoded data removed]",
      "text/plain": [
       "<Figure size 288x288 with 2 Axes>"
      ]
     },
     "metadata": {
      "needs_background": "light"
     },
     "output_type": "display_data"
    }
   ],
   "source": [
    "plt.matshow(df.corr())\n",
    "plt.xticks(np.arange(5), df.columns, rotation=90)\n",
    "plt.yticks(np.arange(5), df.columns, rotation=0)\n",
    "plt.colorbar()\n",
    "plt.show()\n",
    "\n",
    "#from IPython.display import Image\n",
    "#img=plt.to_image(format=\"png\")\n",
    "#Image(img)"
   ]
  },
  {
   "cell_type": "code",
   "execution_count": 7,
   "metadata": {},
   "outputs": [],
   "source": [
    "from sklearn.model_selection import train_test_split\n",
    "\n",
    "X = np.asarray(df[['adjusted_yards_per_attempt', 'assists_on_tackles', 'completed_passes', 'extra_points_made', 'field_goals_made', 'fumbles_forced', 'fumbles_recovered', 'fumbles_recovered_for_touchdown', 'interceptions', 'interceptions_returned_for_touchdown', 'interceptions_thrown', 'kickoff_return_touchdowns', 'other_touchdowns', 'pass_attempts', 'passes_defended', 'passing_completion', 'passing_touchdowns', 'passing_yards', 'passing_yards_per_attempt', 'plays_from_scrimmage', 'points', 'punt_return_touchdowns', 'quarterback_rating', 'receiving_touchdowns', 'receiving_yards', 'receiving_yards_per_reception', 'receptions', 'rush_attempts', 'rush_touchdowns', 'rush_yards', 'rush_yards_per_attempt', 'rushing_and_receiving_touchdowns', 'sacks', 'safeties', 'solo_tackles', 'tackles_for_loss', 'total_tackles', 'total_touchdowns', 'two_point_conversions', 'yards_from_scrimmage', 'yards_from_scrimmage_per_play', 'yards_recovered_from_fumble', 'yards_returned_from_interceptions', 'yards_returned_per_interception']])\n",
    "Y = np.asarray(df['AVp16'])\n",
    "                  \n",
    "\n",
    "X_train, X_test, y_train, y_test = train_test_split(X, Y, test_size=0.33, shuffle= True)"
   ]
  },
  {
   "cell_type": "code",
   "execution_count": 8,
   "metadata": {},
   "outputs": [
    {
     "name": "stdout",
     "output_type": "stream",
     "text": [
      "Score:  -6.349066527930941e+24\n",
      "Weights:  [-4.89260937e+11 -1.87319558e+13 -4.04372612e+13  6.70023568e+13\n",
      " -3.23966130e+13 -2.78654286e+00 -1.91050205e+13 -5.20799780e+12\n",
      " -6.46746483e+12 -6.17897291e+12 -1.07087017e+12 -5.60314630e+12\n",
      " -6.95119012e+13 -1.31273169e+14 -1.29359954e+13  0.00000000e+00\n",
      "  0.00000000e+00  0.00000000e+00  0.00000000e+00 -3.49805557e+12\n",
      "  1.99874048e+12  0.00000000e+00  0.00000000e+00  0.00000000e+00\n",
      "  0.00000000e+00  0.00000000e+00  0.00000000e+00  3.49805557e+12\n",
      " -7.71476586e-01 -1.91841556e+13 -5.04896805e+12 -7.71476586e-01\n",
      "  2.62947243e-01  0.00000000e+00 -1.87319558e+13  1.31362495e+00\n",
      "  1.87319558e+13 -1.19924429e+13  0.00000000e+00  2.92820917e+13\n",
      " -5.04896805e+12  0.00000000e+00  3.59303602e+11  3.59303602e+11]\n"
     ]
    },
    {
     "data": {
      "image/png": "[encoded data removed]",
      "text/plain": [
       "<Figure size 432x288 with 1 Axes>"
      ]
     },
     "metadata": {
      "needs_background": "light"
     },
     "output_type": "display_data"
    }
   ],
   "source": [
    "from sklearn.linear_model import LinearRegression\n",
    "\n",
    "lineReg = LinearRegression()\n",
    "lineReg.fit(X_train, y_train)\n",
    "print('Score: ', lineReg.score(X_test, y_test))\n",
    "print('Weights: ', lineReg.coef_)\n",
    "\n",
    "plt.plot(lineReg.predict(X_test))\n",
    "plt.plot(y_test)\n",
    "plt.show()"
   ]
  },
  {
   "cell_type": "code",
   "execution_count": 9,
   "metadata": {},
   "outputs": [],
   "source": [
    "from sklearn.model_selection import train_test_split\n",
    "\n",
    "X = np.asarray(df[['yards_from_scrimmage_per_play', 'rush_attempts', 'safeties', 'points', 'rushing_and_receiving_touchdowns']])\n",
    "Y = np.asarray(df['AVp16'])\n",
    "\n",
    "X_train, X_test, y_train, y_test = train_test_split(X, Y, test_size=0.33, shuffle= True)"
   ]
  },
  {
   "cell_type": "code",
   "execution_count": 10,
   "metadata": {},
   "outputs": [
    {
     "name": "stdout",
     "output_type": "stream",
     "text": [
      "Score:  -0.07370280236341586\n",
      "Weights:  [-4.74613467e-02  8.38414561e-01 -2.22044605e-16  2.54323002e-02\n",
      "  5.48695662e-01]\n"
     ]
    },
    {
     "data": {
      "image/png": "[encoded data removed]",
      "text/plain": [
       "<Figure size 432x288 with 1 Axes>"
      ]
     },
     "metadata": {
      "needs_background": "light"
     },
     "output_type": "display_data"
    }
   ],
   "source": [
    "from sklearn.linear_model import LinearRegression\n",
    "\n",
    "lineReg = LinearRegression()\n",
    "lineReg.fit(X_train, y_train)\n",
    "print('Score: ', lineReg.score(X_test, y_test))\n",
    "print('Weights: ', lineReg.coef_)\n",
    "\n",
    "plt.plot(lineReg.predict(X_test))\n",
    "plt.plot(y_test)\n",
    "plt.show()"
   ]
  },
  {
   "cell_type": "code",
   "execution_count": 11,
   "metadata": {},
   "outputs": [
    {
     "name": "stdout",
     "output_type": "stream",
     "text": [
      "Score:  -0.07271063322190519\n",
      "Weights:  [-0.04499528  0.82996843  0.          0.02922283  0.49897772]\n"
     ]
    },
    {
     "data": {
      "image/png": "[encoded data removed]",
      "text/plain": [
       "<Figure size 432x288 with 1 Axes>"
      ]
     },
     "metadata": {
      "needs_background": "light"
     },
     "output_type": "display_data"
    }
   ],
   "source": [
    "from sklearn import linear_model\n",
    "reg = linear_model.Ridge (alpha = .5)\n",
    "reg.fit(X_train, y_train)\n",
    "print('Score: ', reg.score(X_test, y_test))\n",
    "print('Weights: ', reg.coef_)\n",
    "\n",
    "plt.plot(reg.predict(X_test))\n",
    "plt.plot(y_test)\n",
    "plt.show()"
   ]
  },
  {
   "cell_type": "code",
   "execution_count": 12,
   "metadata": {},
   "outputs": [
    {
     "name": "stdout",
     "output_type": "stream",
     "text": [
      "Linear Regression\n",
      "-0.05689107551178031\n",
      "[-1.04985671e-01  5.43078505e-01  1.16868321e-16  4.88927957e-02\n",
      "  3.48840648e-01]\n",
      "\n",
      "Ridge Regression\n",
      "-0.04501369264381539\n",
      "[-0.11112953  0.56575407  0.          0.05088086  0.34365145]\n"
     ]
    }
   ],
   "source": [
    "scores = []\n",
    "coefs = []\n",
    "for i in range(1000):\n",
    "    X_train, X_test, y_train, y_test = train_test_split(X, Y, test_size=0.33, shuffle= True)\n",
    "    lineReg = LinearRegression()\n",
    "    lineReg.fit(X_train, y_train)\n",
    "    scores.append(lineReg.score(X_test, y_test))\n",
    "    coefs.append(lineReg.coef_)\n",
    "print('Linear Regression')\n",
    "print(np.mean(scores))\n",
    "print(np.mean(coefs, axis=0))\n",
    "\n",
    "scores = []\n",
    "coefs = []\n",
    "for i in range(1000):\n",
    "    X_train, X_test, y_train, y_test = train_test_split(X, Y, test_size=0.33, shuffle= True)\n",
    "    lineReg = linear_model.Ridge (alpha = .5)\n",
    "    lineReg.fit(X_train, y_train)\n",
    "    scores.append(lineReg.score(X_test, y_test))\n",
    "    coefs.append(lineReg.coef_)\n",
    "print('\\nRidge Regression')\n",
    "print(np.mean(scores))\n",
    "print(np.mean(coefs, axis=0))"
   ]
  }
 ],
 "metadata": {
  "kernelspec": {
   "display_name": "Python 3",
   "language": "python",
   "name": "python3"
  },
  "language_info": {
   "codemirror_mode": {
    "name": "ipython",
    "version": 3
   },
   "file_extension": ".py",
   "mimetype": "text/x-python",
   "name": "python",
   "nbconvert_exporter": "python",
   "pygments_lexer": "ipython3",
   "version": "3.7.3"
  }
 },
 "nbformat": 4,
 "nbformat_minor": 4
}
