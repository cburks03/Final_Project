{
 "cells": [
  {
   "cell_type": "code",
   "execution_count": 1,
   "metadata": {},
   "outputs": [],
   "source": [
    "import pandas as pd\n",
    "import os\n",
    "from sklearn.neighbors import KNeighborsClassifier\n",
    "\n",
    "import matplotlib.pyplot as plt\n",
    "import seaborn as sns\n",
    "%matplotlib inline\n",
    "import numpy as np"
   ]
  },
  {
   "cell_type": "code",
   "execution_count": 2,
   "metadata": {},
   "outputs": [
    {
     "data": {
      "text/html": [
       "<div>\n",
       "<style scoped>\n",
       "    .dataframe tbody tr th:only-of-type {\n",
       "        vertical-align: middle;\n",
       "    }\n",
       "\n",
       "    .dataframe tbody tr th {\n",
       "        vertical-align: top;\n",
       "    }\n",
       "\n",
       "    .dataframe thead th {\n",
       "        text-align: right;\n",
       "    }\n",
       "</style>\n",
       "<table border=\"1\" class=\"dataframe\">\n",
       "  <thead>\n",
       "    <tr style=\"text-align: right;\">\n",
       "      <th></th>\n",
       "      <th>name</th>\n",
       "      <th>approximate_value</th>\n",
       "      <th>games.x</th>\n",
       "      <th>AVp16</th>\n",
       "      <th>X1</th>\n",
       "      <th>adjusted_yards_per_attempt</th>\n",
       "      <th>assists_on_tackles</th>\n",
       "      <th>completed_passes</th>\n",
       "      <th>extra_points_made</th>\n",
       "      <th>field_goals_made</th>\n",
       "      <th>...</th>\n",
       "      <th>total_touchdowns</th>\n",
       "      <th>two_point_conversions</th>\n",
       "      <th>weight</th>\n",
       "      <th>yards_from_scrimmage</th>\n",
       "      <th>yards_from_scrimmage_per_play</th>\n",
       "      <th>yards_recovered_from_fumble</th>\n",
       "      <th>yards_returned_from_interceptions</th>\n",
       "      <th>yards_returned_per_interception</th>\n",
       "      <th>year</th>\n",
       "      <th>X</th>\n",
       "    </tr>\n",
       "  </thead>\n",
       "  <tbody>\n",
       "    <tr>\n",
       "      <th>0</th>\n",
       "      <td>Roberto Aguayo</td>\n",
       "      <td>0</td>\n",
       "      <td>16</td>\n",
       "      <td>0.000000</td>\n",
       "      <td>Career</td>\n",
       "      <td>NaN</td>\n",
       "      <td>0.0</td>\n",
       "      <td>NaN</td>\n",
       "      <td>198.0</td>\n",
       "      <td>69.0</td>\n",
       "      <td>...</td>\n",
       "      <td>0.0</td>\n",
       "      <td>NaN</td>\n",
       "      <td>196.0</td>\n",
       "      <td>NaN</td>\n",
       "      <td>NaN</td>\n",
       "      <td>NaN</td>\n",
       "      <td>0.0</td>\n",
       "      <td>NaN</td>\n",
       "      <td>NaN</td>\n",
       "      <td>NaN</td>\n",
       "    </tr>\n",
       "    <tr>\n",
       "      <th>1</th>\n",
       "      <td>Michael Badgley</td>\n",
       "      <td>5</td>\n",
       "      <td>18</td>\n",
       "      <td>4.444444</td>\n",
       "      <td>Career</td>\n",
       "      <td>NaN</td>\n",
       "      <td>1.0</td>\n",
       "      <td>NaN</td>\n",
       "      <td>172.0</td>\n",
       "      <td>77.0</td>\n",
       "      <td>...</td>\n",
       "      <td>0.0</td>\n",
       "      <td>NaN</td>\n",
       "      <td>178.0</td>\n",
       "      <td>NaN</td>\n",
       "      <td>NaN</td>\n",
       "      <td>NaN</td>\n",
       "      <td>0.0</td>\n",
       "      <td>NaN</td>\n",
       "      <td>NaN</td>\n",
       "      <td>NaN</td>\n",
       "    </tr>\n",
       "    <tr>\n",
       "      <th>2</th>\n",
       "      <td>Dan Bailey</td>\n",
       "      <td>33</td>\n",
       "      <td>138</td>\n",
       "      <td>3.826087</td>\n",
       "      <td>Career</td>\n",
       "      <td>NaN</td>\n",
       "      <td>0.0</td>\n",
       "      <td>NaN</td>\n",
       "      <td>199.0</td>\n",
       "      <td>57.0</td>\n",
       "      <td>...</td>\n",
       "      <td>0.0</td>\n",
       "      <td>NaN</td>\n",
       "      <td>NaN</td>\n",
       "      <td>NaN</td>\n",
       "      <td>NaN</td>\n",
       "      <td>NaN</td>\n",
       "      <td>0.0</td>\n",
       "      <td>NaN</td>\n",
       "      <td>NaN</td>\n",
       "      <td>NaN</td>\n",
       "    </tr>\n",
       "    <tr>\n",
       "      <th>3</th>\n",
       "      <td>Chris Boswell</td>\n",
       "      <td>16</td>\n",
       "      <td>74</td>\n",
       "      <td>3.459459</td>\n",
       "      <td>Career</td>\n",
       "      <td>NaN</td>\n",
       "      <td>0.0</td>\n",
       "      <td>NaN</td>\n",
       "      <td>164.0</td>\n",
       "      <td>65.0</td>\n",
       "      <td>...</td>\n",
       "      <td>0.0</td>\n",
       "      <td>NaN</td>\n",
       "      <td>200.0</td>\n",
       "      <td>NaN</td>\n",
       "      <td>NaN</td>\n",
       "      <td>NaN</td>\n",
       "      <td>0.0</td>\n",
       "      <td>NaN</td>\n",
       "      <td>NaN</td>\n",
       "      <td>NaN</td>\n",
       "    </tr>\n",
       "    <tr>\n",
       "      <th>4</th>\n",
       "      <td>John Brown</td>\n",
       "      <td>36</td>\n",
       "      <td>87</td>\n",
       "      <td>6.620690</td>\n",
       "      <td>NaN</td>\n",
       "      <td>NaN</td>\n",
       "      <td>NaN</td>\n",
       "      <td>NaN</td>\n",
       "      <td>15.0</td>\n",
       "      <td>6.0</td>\n",
       "      <td>...</td>\n",
       "      <td>0.0</td>\n",
       "      <td>NaN</td>\n",
       "      <td>NaN</td>\n",
       "      <td>NaN</td>\n",
       "      <td>NaN</td>\n",
       "      <td>NaN</td>\n",
       "      <td>NaN</td>\n",
       "      <td>NaN</td>\n",
       "      <td>NaN</td>\n",
       "      <td>Career</td>\n",
       "    </tr>\n",
       "  </tbody>\n",
       "</table>\n",
       "<p>5 rows × 58 columns</p>\n",
       "</div>"
      ],
      "text/plain": [
       "              name  approximate_value  games.x     AVp16      X1  \\\n",
       "0   Roberto Aguayo                  0       16  0.000000  Career   \n",
       "1  Michael Badgley                  5       18  4.444444  Career   \n",
       "2       Dan Bailey                 33      138  3.826087  Career   \n",
       "3    Chris Boswell                 16       74  3.459459  Career   \n",
       "4       John Brown                 36       87  6.620690     NaN   \n",
       "\n",
       "   adjusted_yards_per_attempt  assists_on_tackles  completed_passes  \\\n",
       "0                         NaN                 0.0               NaN   \n",
       "1                         NaN                 1.0               NaN   \n",
       "2                         NaN                 0.0               NaN   \n",
       "3                         NaN                 0.0               NaN   \n",
       "4                         NaN                 NaN               NaN   \n",
       "\n",
       "   extra_points_made  field_goals_made  ...  total_touchdowns  \\\n",
       "0              198.0              69.0  ...               0.0   \n",
       "1              172.0              77.0  ...               0.0   \n",
       "2              199.0              57.0  ...               0.0   \n",
       "3              164.0              65.0  ...               0.0   \n",
       "4               15.0               6.0  ...               0.0   \n",
       "\n",
       "   two_point_conversions  weight  yards_from_scrimmage  \\\n",
       "0                    NaN   196.0                   NaN   \n",
       "1                    NaN   178.0                   NaN   \n",
       "2                    NaN     NaN                   NaN   \n",
       "3                    NaN   200.0                   NaN   \n",
       "4                    NaN     NaN                   NaN   \n",
       "\n",
       "  yards_from_scrimmage_per_play  yards_recovered_from_fumble  \\\n",
       "0                           NaN                          NaN   \n",
       "1                           NaN                          NaN   \n",
       "2                           NaN                          NaN   \n",
       "3                           NaN                          NaN   \n",
       "4                           NaN                          NaN   \n",
       "\n",
       "   yards_returned_from_interceptions  yards_returned_per_interception  year  \\\n",
       "0                                0.0                              NaN   NaN   \n",
       "1                                0.0                              NaN   NaN   \n",
       "2                                0.0                              NaN   NaN   \n",
       "3                                0.0                              NaN   NaN   \n",
       "4                                NaN                              NaN   NaN   \n",
       "\n",
       "        X  \n",
       "0     NaN  \n",
       "1     NaN  \n",
       "2     NaN  \n",
       "3     NaN  \n",
       "4  Career  \n",
       "\n",
       "[5 rows x 58 columns]"
      ]
     },
     "execution_count": 2,
     "metadata": {},
     "output_type": "execute_result"
    }
   ],
   "source": [
    "df = pd.read_csv('Position CSV/K_stacked.csv')\n",
    "df.head()"
   ]
  },
  {
   "cell_type": "code",
   "execution_count": 3,
   "metadata": {},
   "outputs": [],
   "source": [
    "df.drop(['name', 'approximate_value', 'games.x', 'X1', 'height', 'player_id', 'position', 'team_abbreviation', 'season', 'year', 'X'], axis=1, inplace=True)"
   ]
  },
  {
   "cell_type": "code",
   "execution_count": 4,
   "metadata": {},
   "outputs": [],
   "source": [
    "df.fillna(0, inplace=True)"
   ]
  },
  {
   "cell_type": "code",
   "execution_count": 5,
   "metadata": {},
   "outputs": [
    {
     "name": "stdout",
     "output_type": "stream",
     "text": [
      "AVp16\n",
      "adjusted_yards_per_attempt\n",
      "assists_on_tackles\n",
      "completed_passes\n",
      "extra_points_made\n",
      "field_goals_made\n",
      "fumbles_forced\n",
      "fumbles_recovered\n",
      "fumbles_recovered_for_touchdown\n",
      "games.y\n",
      "interceptions\n",
      "interceptions_returned_for_touchdown\n",
      "interceptions_thrown\n",
      "kickoff_return_touchdowns\n",
      "other_touchdowns\n",
      "pass_attempts\n",
      "passes_defended\n",
      "passing_completion\n",
      "passing_touchdowns\n",
      "passing_yards\n",
      "passing_yards_per_attempt\n",
      "plays_from_scrimmage\n",
      "points\n",
      "punt_return_touchdowns\n",
      "quarterback_rating\n",
      "receiving_touchdowns\n",
      "receiving_yards\n",
      "receiving_yards_per_reception\n",
      "receptions\n",
      "rush_attempts\n",
      "rush_touchdowns\n",
      "rush_yards\n",
      "rush_yards_per_attempt\n",
      "rushing_and_receiving_touchdowns\n",
      "sacks\n",
      "safeties\n",
      "solo_tackles\n",
      "tackles_for_loss\n",
      "total_tackles\n",
      "total_touchdowns\n",
      "two_point_conversions\n",
      "weight\n",
      "yards_from_scrimmage\n",
      "yards_from_scrimmage_per_play\n",
      "yards_recovered_from_fumble\n",
      "yards_returned_from_interceptions\n",
      "yards_returned_per_interception\n"
     ]
    }
   ],
   "source": [
    "for col in df.columns: \n",
    "    print(col) "
   ]
  },
  {
   "cell_type": "code",
   "execution_count": 6,
   "metadata": {},
   "outputs": [
    {
     "data": {
      "image/png": "[encoded data removed]",
      "text/plain": [
       "<Figure size 288x288 with 2 Axes>"
      ]
     },
     "metadata": {
      "needs_background": "light"
     },
     "output_type": "display_data"
    }
   ],
   "source": [
    "plt.matshow(df.corr())\n",
    "plt.xticks(np.arange(5), df.columns, rotation=90)\n",
    "plt.yticks(np.arange(5), df.columns, rotation=0)\n",
    "plt.colorbar()\n",
    "plt.show()\n",
    "\n",
    "#from IPython.display import Image\n",
    "#img=plt.to_image(format=\"png\")\n",
    "#Image(img)"
   ]
  },
  {
   "cell_type": "code",
   "execution_count": 7,
   "metadata": {},
   "outputs": [],
   "source": [
    "from sklearn.model_selection import train_test_split\n",
    "\n",
    "X = np.asarray(df[['adjusted_yards_per_attempt', 'assists_on_tackles', 'completed_passes', 'extra_points_made', 'field_goals_made', 'fumbles_forced', 'fumbles_recovered', 'fumbles_recovered_for_touchdown', 'interceptions', 'interceptions_returned_for_touchdown', 'interceptions_thrown', 'kickoff_return_touchdowns', 'other_touchdowns', 'pass_attempts', 'passes_defended', 'passing_completion', 'passing_touchdowns', 'passing_yards', 'passing_yards_per_attempt', 'plays_from_scrimmage', 'points', 'punt_return_touchdowns', 'quarterback_rating', 'receiving_touchdowns', 'receiving_yards', 'receiving_yards_per_reception', 'receptions', 'rush_attempts', 'rush_touchdowns', 'rush_yards', 'rush_yards_per_attempt', 'rushing_and_receiving_touchdowns', 'sacks', 'safeties', 'solo_tackles', 'tackles_for_loss', 'total_tackles', 'total_touchdowns', 'two_point_conversions', 'yards_from_scrimmage', 'yards_from_scrimmage_per_play', 'yards_recovered_from_fumble', 'yards_returned_from_interceptions', 'yards_returned_per_interception']])\n",
    "Y = np.asarray(df['AVp16'])\n",
    "                  \n",
    "\n",
    "X_train, X_test, y_train, y_test = train_test_split(X, Y, test_size=0.33, shuffle= True)"
   ]
  },
  {
   "cell_type": "code",
   "execution_count": 8,
   "metadata": {},
   "outputs": [
    {
     "name": "stdout",
     "output_type": "stream",
     "text": [
      "Score:  -0.8132072725851962\n",
      "Weights:  [ 4.74294777e-02  2.91546935e-01 -5.27020905e-02  9.95817112e-02\n",
      "  2.57731920e-01 -2.98372438e-15 -9.71445147e-16 -5.19029264e-15\n",
      " -1.83186799e-15  2.66453526e-15 -2.66060897e-03  2.05391260e-15\n",
      " -8.32667268e-17 -2.28471591e-01  0.00000000e+00  3.07854377e-02\n",
      "  0.00000000e+00  9.15717759e-02 -7.22979261e-02 -2.42494250e-01\n",
      " -9.11719152e-02  0.00000000e+00 -1.61897604e-02  0.00000000e+00\n",
      "  0.00000000e+00  0.00000000e+00  0.00000000e+00 -2.42494250e-01\n",
      "  0.00000000e+00  1.38757102e-02 -2.58368319e-02  0.00000000e+00\n",
      "  0.00000000e+00  0.00000000e+00 -1.18275483e-01  0.00000000e+00\n",
      "  1.73271452e-01  0.00000000e+00 -4.81974693e-01  1.38757102e-02\n",
      " -2.58368319e-02  0.00000000e+00  0.00000000e+00  0.00000000e+00]\n"
     ]
    },
    {
     "data": {
      "image/png": "[encoded data removed]",
      "text/plain": [
       "<Figure size 432x288 with 1 Axes>"
      ]
     },
     "metadata": {
      "needs_background": "light"
     },
     "output_type": "display_data"
    }
   ],
   "source": [
    "from sklearn.linear_model import LinearRegression\n",
    "\n",
    "lineReg = LinearRegression()\n",
    "lineReg.fit(X_train, y_train)\n",
    "print('Score: ', lineReg.score(X_test, y_test))\n",
    "print('Weights: ', lineReg.coef_)\n",
    "\n",
    "plt.plot(lineReg.predict(X_test))\n",
    "plt.plot(y_test)\n",
    "plt.show()"
   ]
  },
  {
   "cell_type": "code",
   "execution_count": 9,
   "metadata": {},
   "outputs": [],
   "source": [
    "from sklearn.model_selection import train_test_split\n",
    "\n",
    "X = np.asarray(df[['sacks', 'passing_yards', 'points', 'yards_from_scrimmage', 'passing_touchdowns']])\n",
    "Y = np.asarray(df['AVp16'])\n",
    "\n",
    "X_train, X_test, y_train, y_test = train_test_split(X, Y, test_size=0.33, shuffle= True)"
   ]
  },
  {
   "cell_type": "code",
   "execution_count": 10,
   "metadata": {},
   "outputs": [
    {
     "name": "stdout",
     "output_type": "stream",
     "text": [
      "Score:  -0.6005845764187185\n",
      "Weights:  [ 0.00000000e+00 -1.24266594e-01 -1.71365006e-03 -1.62261229e-02\n",
      "  5.45870090e+00]\n"
     ]
    },
    {
     "data": {
      "image/png": "[encoded data removed]",
      "text/plain": [
       "<Figure size 432x288 with 1 Axes>"
      ]
     },
     "metadata": {
      "needs_background": "light"
     },
     "output_type": "display_data"
    }
   ],
   "source": [
    "from sklearn.linear_model import LinearRegression\n",
    "\n",
    "lineReg = LinearRegression()\n",
    "lineReg.fit(X_train, y_train)\n",
    "print('Score: ', lineReg.score(X_test, y_test))\n",
    "print('Weights: ', lineReg.coef_)\n",
    "\n",
    "plt.plot(lineReg.predict(X_test))\n",
    "plt.plot(y_test)\n",
    "plt.show()"
   ]
  },
  {
   "cell_type": "code",
   "execution_count": 11,
   "metadata": {},
   "outputs": [
    {
     "name": "stdout",
     "output_type": "stream",
     "text": [
      "Score:  -0.15105647369646458\n",
      "Weights:  [ 0.          0.01637718 -0.00173143 -0.01762024  0.19101781]\n"
     ]
    },
    {
     "data": {
      "image/png": "[encoded data removed]",
      "text/plain": [
       "<Figure size 432x288 with 1 Axes>"
      ]
     },
     "metadata": {
      "needs_background": "light"
     },
     "output_type": "display_data"
    }
   ],
   "source": [
    "from sklearn import linear_model\n",
    "reg = linear_model.Ridge (alpha = .5)\n",
    "reg.fit(X_train, y_train)\n",
    "print('Score: ', reg.score(X_test, y_test))\n",
    "print('Weights: ', reg.coef_)\n",
    "\n",
    "plt.plot(reg.predict(X_test))\n",
    "plt.plot(y_test)\n",
    "plt.show()"
   ]
  },
  {
   "cell_type": "code",
   "execution_count": 12,
   "metadata": {},
   "outputs": [
    {
     "name": "stdout",
     "output_type": "stream",
     "text": [
      "Linear Regression\n",
      "-0.5835860935270861\n",
      "[ 0.00000000e+00 -1.98690381e-02 -8.40470723e-04 -2.46353608e-02\n",
      "  1.17332049e+00]\n",
      "\n",
      "Ridge Regression\n",
      "-0.3300046246200252\n",
      "[ 0.00000000e+00  2.99835723e-04 -8.07831666e-04 -2.39754509e-02\n",
      "  3.18126013e-01]\n"
     ]
    }
   ],
   "source": [
    "scores = []\n",
    "coefs = []\n",
    "for i in range(1000):\n",
    "    X_train, X_test, y_train, y_test = train_test_split(X, Y, test_size=0.33, shuffle= True)\n",
    "    lineReg = LinearRegression()\n",
    "    lineReg.fit(X_train, y_train)\n",
    "    scores.append(lineReg.score(X_test, y_test))\n",
    "    coefs.append(lineReg.coef_)\n",
    "print('Linear Regression')\n",
    "print(np.mean(scores))\n",
    "print(np.mean(coefs, axis=0))\n",
    "\n",
    "scores = []\n",
    "coefs = []\n",
    "for i in range(1000):\n",
    "    X_train, X_test, y_train, y_test = train_test_split(X, Y, test_size=0.33, shuffle= True)\n",
    "    lineReg = linear_model.Ridge (alpha = .5)\n",
    "    lineReg.fit(X_train, y_train)\n",
    "    scores.append(lineReg.score(X_test, y_test))\n",
    "    coefs.append(lineReg.coef_)\n",
    "print('\\nRidge Regression')\n",
    "print(np.mean(scores))\n",
    "print(np.mean(coefs, axis=0))"
   ]
  }
 ],
 "metadata": {
  "kernelspec": {
   "display_name": "Python 3",
   "language": "python",
   "name": "python3"
  },
  "language_info": {
   "codemirror_mode": {
    "name": "ipython",
    "version": 3
   },
   "file_extension": ".py",
   "mimetype": "text/x-python",
   "name": "python",
   "nbconvert_exporter": "python",
   "pygments_lexer": "ipython3",
   "version": "3.7.3"
  }
 },
 "nbformat": 4,
 "nbformat_minor": 4
}
